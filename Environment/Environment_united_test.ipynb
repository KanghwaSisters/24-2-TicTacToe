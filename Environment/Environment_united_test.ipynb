{
 "cells": [
  {
   "cell_type": "markdown",
   "metadata": {},
   "source": [
    "## Import in Local"
   ]
  },
  {
   "cell_type": "code",
   "execution_count": 1,
   "metadata": {},
   "outputs": [],
   "source": [
    "import os\n",
    "# 해당 py 파일이 존재하는 경로\n",
    "os.chdir(\"/Users/seungyeonlee/Documents/GitHub/24-2-TicTacToe/Environment\")\n",
    "from Environment import Environment_united"
   ]
  },
  {
   "cell_type": "markdown",
   "metadata": {},
   "source": [
    "## Import in Colab"
   ]
  },
  {
   "cell_type": "code",
   "execution_count": null,
   "metadata": {},
   "outputs": [],
   "source": [
    "import os\n",
    "# Mount google Drive\n",
    "from google.colab import drive\n",
    "drive.mount('/content/drive')\n",
    "\n",
    "# 이 경로에 해당 py 파일이 존재해야 함\n",
    "os.chdir(\"/content/drive/MyDrive/Sabina_Colab/tictactoe\")\n",
    "\n",
    "!python TTT_Environment.py\n",
    "from Environment import Environment_united"
   ]
  },
  {
   "cell_type": "markdown",
   "metadata": {},
   "source": [
    "## Test Code"
   ]
  },
  {
   "cell_type": "code",
   "execution_count": 2,
   "metadata": {},
   "outputs": [],
   "source": [
    "import time"
   ]
  },
  {
   "cell_type": "code",
   "execution_count": 4,
   "metadata": {},
   "outputs": [
    {
     "name": "stdout",
     "output_type": "stream",
     "text": [
      "----------\n",
      "[Turn 1] Reward:0, Done:False, Win:False\n",
      ". . . \n",
      ". . . \n",
      ". . X\n",
      "----------\n",
      "[Turn 2] Reward:0, Done:False, Win:False\n",
      ". . . \n",
      ". . . \n",
      ". O X\n",
      "----------\n",
      "[Turn 3] Reward:0, Done:False, Win:False\n",
      ". . . \n",
      ". X . \n",
      ". O X\n",
      "----------\n",
      "[Turn 4] Reward:0, Done:False, Win:False\n",
      ". . . \n",
      ". X . \n",
      "O O X\n",
      "----------\n",
      "[Turn 5] Reward:-1, Done:True, Win:True\n",
      "X . . \n",
      ". X . \n",
      "O O X\n"
     ]
    }
   ],
   "source": [
    "# Playing one game\n",
    "state_size = (3, 3)\n",
    "env = Environment(state_size)\n",
    "\n",
    "env.reset()\n",
    "done = False\n",
    "turn = 0\n",
    "\n",
    "while not done:\n",
    "    print(\"-\" * 10)\n",
    "    turn += 1\n",
    "    state = env.present_state\n",
    "    legal_actions = env.get_legal_actions(state)\n",
    "    state = env.present_state\n",
    "    action = env.get_random_action(state)\n",
    "    next_state ,reward, done, is_win = env.step(action)\n",
    "\n",
    "    print(f\"[Turn {turn}] Reward:{reward}, Done:{done}, Win:{is_win}\")\n",
    "    env.render(next_state)"
   ]
  },
  {
   "cell_type": "code",
   "execution_count": 5,
   "metadata": {},
   "outputs": [
    {
     "name": "stdout",
     "output_type": "stream",
     "text": [
      "19.138585703999993\n",
      "0.19138585703999994\n"
     ]
    }
   ],
   "source": [
    "# time test\n",
    "env = Environment(state_size)\n",
    "time_list = []\n",
    "\n",
    "for _ in range(100):\n",
    "    start_time = time.perf_counter()\n",
    "    for _ in range(1000):\n",
    "        env.reset()\n",
    "        done = False\n",
    "        turn = 0\n",
    "\n",
    "        while not done:\n",
    "            turn += 1\n",
    "            state = env.present_state\n",
    "            legal_actions = env.get_legal_actions(state)\n",
    "            state = env.present_state\n",
    "            action = env.get_random_action(state)\n",
    "            next_state ,reward, done, is_win = env.step(action)\n",
    "\n",
    "            # print(f\"[Turn {turn}] Reward:{reward}, Done:{done}, Win:{is_win}\")\n",
    "            # env.render(next_state)\n",
    "\n",
    "    end_time = time.perf_counter()\n",
    "    time_list.append(end_time-start_time)\n",
    "    # print(end_time-start_time)\n",
    "\n",
    "print(sum(time_list))\n",
    "print(sum(time_list)/100)"
   ]
  },
  {
   "cell_type": "code",
   "execution_count": null,
   "metadata": {},
   "outputs": [],
   "source": []
  }
 ],
 "metadata": {
  "kernelspec": {
   "display_name": "Python 3.9.10 64-bit",
   "language": "python",
   "name": "python3"
  },
  "language_info": {
   "codemirror_mode": {
    "name": "ipython",
    "version": 3
   },
   "file_extension": ".py",
   "mimetype": "text/x-python",
   "name": "python",
   "nbconvert_exporter": "python",
   "pygments_lexer": "ipython3",
   "version": "3.9.10"
  },
  "orig_nbformat": 4,
  "vscode": {
   "interpreter": {
    "hash": "aee8b7b246df8f9039afb4144a1f6fd8d2ca17a180786b69acc140d282b71a49"
   }
  }
 },
 "nbformat": 4,
 "nbformat_minor": 2
}
