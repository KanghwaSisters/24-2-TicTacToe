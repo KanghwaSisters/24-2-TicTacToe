{
 "cells": [
  {
   "cell_type": "code",
   "execution_count": 1,
   "metadata": {},
   "outputs": [],
   "source": [
    "import os\n",
    "import time\n",
    "# 해당 py 파일이 존재하는 경로\n",
    "os.chdir(\"/Users/seungyeonlee/Documents/GitHub/24-2-TicTacToe/Environment\")\n",
    "from Environment import Environment\n",
    "from State import State"
   ]
  },
  {
   "cell_type": "code",
   "execution_count": 6,
   "metadata": {},
   "outputs": [
    {
     "name": "stdout",
     "output_type": "stream",
     "text": [
      "----------\n",
      "[Turn 1] done: False, is_lose: False, reward: (0, 0)\n",
      ". X . \n",
      ". . . \n",
      ". . .\n",
      "----------\n",
      "[Turn 2] done: False, is_lose: False, reward: (0, 0)\n",
      ". X . \n",
      ". . . \n",
      ". . O\n",
      "----------\n",
      "[Turn 3] done: False, is_lose: False, reward: (0, 0)\n",
      ". X . \n",
      ". . . \n",
      "X . O\n",
      "----------\n",
      "[Turn 4] done: False, is_lose: False, reward: (0, 0)\n",
      ". X O \n",
      ". . . \n",
      "X . O\n",
      "----------\n",
      "[Turn 5] done: False, is_lose: False, reward: (0, 0)\n",
      ". X O \n",
      ". . X \n",
      "X . O\n",
      "----------\n",
      "[Turn 6] done: False, is_lose: False, reward: (0, 0)\n",
      ". X O \n",
      ". . X \n",
      "X O O\n",
      "----------\n",
      "[Turn 7] done: False, is_lose: False, reward: (0, 0)\n",
      "X X O \n",
      ". . X \n",
      "X O O\n",
      "----------\n",
      "[Turn 8] done: False, is_lose: False, reward: (0, 0)\n",
      "X X O \n",
      "O . X \n",
      "X O O\n",
      "----------\n",
      "[Turn 9] done: True, is_lose: False, reward: (0, 0)\n",
      "X X O \n",
      "O X X \n",
      "X O O\n"
     ]
    }
   ],
   "source": [
    "# Playing one game\n",
    "env = Environment()\n",
    "state = State()\n",
    "\n",
    "done = False\n",
    "first_reward, second_reward = 0, 0\n",
    "turn = 0\n",
    "\n",
    "while not done:\n",
    "    action = state.get_random_action()\n",
    "    state, done, is_lose = env.step(state, action)\n",
    "\n",
    "    if done:\n",
    "        first_reward, second_reward = env.get_reward(state)\n",
    "\n",
    "    turn += 1\n",
    "\n",
    "    print(\"-\"*10)\n",
    "    print(f\"[Turn {turn}] done: {done}, is_lose: {is_lose}, reward: {(first_reward, second_reward)}\")\n",
    "    env.render(state)\n",
    "\n"
   ]
  },
  {
   "cell_type": "code",
   "execution_count": 9,
   "metadata": {},
   "outputs": [
    {
     "name": "stdout",
     "output_type": "stream",
     "text": [
      "36.651003620999745\n",
      "0.36651003620999745\n"
     ]
    }
   ],
   "source": [
    "# time test\n",
    "env = Environment()\n",
    "time_list = []\n",
    "\n",
    "for _ in range(100):\n",
    "    start_time = time.perf_counter()\n",
    "\n",
    "    for _ in range(1000):\n",
    "        state = State()\n",
    "        done = False\n",
    "        first_reward, second_reward = 0, 0\n",
    "\n",
    "        while not done:\n",
    "            action = state.get_random_action()\n",
    "            state, done, is_lose = env.step(state, action)\n",
    "\n",
    "            if done:\n",
    "                first_reward, second_reward = env.get_reward(state)\n",
    "\n",
    "    end_time = time.perf_counter()\n",
    "    time_list.append(end_time - start_time)\n",
    "\n",
    "print(sum(time_list))\n",
    "print(sum(time_list)/100)"
   ]
  },
  {
   "cell_type": "code",
   "execution_count": null,
   "metadata": {},
   "outputs": [],
   "source": []
  }
 ],
 "metadata": {
  "kernelspec": {
   "display_name": "Python 3.9.10 64-bit",
   "language": "python",
   "name": "python3"
  },
  "language_info": {
   "codemirror_mode": {
    "name": "ipython",
    "version": 3
   },
   "file_extension": ".py",
   "mimetype": "text/x-python",
   "name": "python",
   "nbconvert_exporter": "python",
   "pygments_lexer": "ipython3",
   "version": "3.9.10"
  },
  "orig_nbformat": 4,
  "vscode": {
   "interpreter": {
    "hash": "aee8b7b246df8f9039afb4144a1f6fd8d2ca17a180786b69acc140d282b71a49"
   }
  }
 },
 "nbformat": 4,
 "nbformat_minor": 2
}
