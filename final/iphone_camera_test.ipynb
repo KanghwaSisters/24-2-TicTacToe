{
 "cells": [
  {
   "cell_type": "code",
   "execution_count": 1,
   "metadata": {},
   "outputs": [
    {
     "name": "stderr",
     "output_type": "stream",
     "text": [
      "2025-02-25 15:02:44.581 python[45923:22675265] WARNING: AVCaptureDeviceTypeExternal is deprecated for Continuity Cameras. Please use AVCaptureDeviceTypeContinuityCamera and add NSCameraUseContinuityCameraDeviceType to your Info.plist.\n"
     ]
    },
    {
     "name": "stdout",
     "output_type": "stream",
     "text": [
      "카메라 0가 열렸습니다.\n"
     ]
    },
    {
     "name": "stderr",
     "output_type": "stream",
     "text": [
      "2025-02-25 15:02:48.213 python[45923:22675265] +[IMKClient subclass]: chose IMKClient_Modern\n",
      "2025-02-25 15:02:48.214 python[45923:22675265] +[IMKInputSession subclass]: chose IMKInputSession_Modern\n"
     ]
    },
    {
     "ename": "KeyboardInterrupt",
     "evalue": "",
     "output_type": "error",
     "traceback": [
      "\u001b[0;31m---------------------------------------------------------------------------\u001b[0m",
      "\u001b[0;31mKeyboardInterrupt\u001b[0m                         Traceback (most recent call last)",
      "\u001b[0;32m/var/folders/pz/1m8kjyh1283_znnjwmd3h7740000gn/T/ipykernel_45923/3725194109.py\u001b[0m in \u001b[0;36m<module>\u001b[0;34m\u001b[0m\n\u001b[1;32m     32\u001b[0m     \u001b[0mcv2\u001b[0m\u001b[0;34m.\u001b[0m\u001b[0mimshow\u001b[0m\u001b[0;34m(\u001b[0m\u001b[0;34m'Webcam'\u001b[0m\u001b[0;34m,\u001b[0m \u001b[0mframe\u001b[0m\u001b[0;34m)\u001b[0m\u001b[0;34m\u001b[0m\u001b[0;34m\u001b[0m\u001b[0m\n\u001b[1;32m     33\u001b[0m \u001b[0;34m\u001b[0m\u001b[0m\n\u001b[0;32m---> 34\u001b[0;31m     \u001b[0mkey\u001b[0m \u001b[0;34m=\u001b[0m \u001b[0mcv2\u001b[0m\u001b[0;34m.\u001b[0m\u001b[0mwaitKeyEx\u001b[0m\u001b[0;34m(\u001b[0m\u001b[0;36m1\u001b[0m\u001b[0;34m)\u001b[0m  \u001b[0;31m# Mac에서 키 입력 감지를 개선\u001b[0m\u001b[0;34m\u001b[0m\u001b[0;34m\u001b[0m\u001b[0m\n\u001b[0m\u001b[1;32m     35\u001b[0m \u001b[0;34m\u001b[0m\u001b[0m\n\u001b[1;32m     36\u001b[0m     \u001b[0;32mif\u001b[0m \u001b[0mkey\u001b[0m \u001b[0;34m==\u001b[0m \u001b[0mord\u001b[0m\u001b[0;34m(\u001b[0m\u001b[0;34m'q'\u001b[0m\u001b[0;34m)\u001b[0m\u001b[0;34m:\u001b[0m  \u001b[0;31m# 'q' 키를 누르면 종료\u001b[0m\u001b[0;34m\u001b[0m\u001b[0;34m\u001b[0m\u001b[0m\n",
      "\u001b[0;31mKeyboardInterrupt\u001b[0m: "
     ]
    }
   ],
   "source": [
    "import cv2\n",
    "import os\n",
    "\n",
    "# 저장할 디렉토리 설정\n",
    "save_dir = \"captured_images\"\n",
    "if not os.path.exists(save_dir):\n",
    "    os.makedirs(save_dir)  # 폴더 없으면 생성\n",
    "\n",
    "# 사용 가능한 카메라 찾기\n",
    "cap = None\n",
    "for i in range(5):  # 0부터 4까지 시도\n",
    "    cap = cv2.VideoCapture(i)\n",
    "    if cap.isOpened():\n",
    "        print(f\"카메라 {i}가 열렸습니다.\")\n",
    "        break\n",
    "    cap.release()\n",
    "\n",
    "if not cap or not cap.isOpened():\n",
    "    print(\"사용 가능한 카메라를 찾을 수 없습니다.\")\n",
    "    exit()\n",
    "\n",
    "# 캡처 이미지 카운트\n",
    "capture_count = 0\n",
    "\n",
    "while True:\n",
    "    ret, frame = cap.read()\n",
    "    if not ret:\n",
    "        print(\"프레임을 읽을 수 없습니다.\")\n",
    "        break\n",
    "\n",
    "    # 영상 출력\n",
    "    cv2.imshow('Webcam', frame)\n",
    "\n",
    "    key = cv2.waitKeyEx(1)  # Mac에서 키 입력 감지를 개선\n",
    "\n",
    "    if key == ord('q'):  # 'q' 키를 누르면 종료\n",
    "        print(\"프로그램 종료\")\n",
    "        break\n",
    "    elif key == ord('c'):  # 'c' 키를 누르면 이미지 캡처\n",
    "        capture_count += 1\n",
    "        img_name = os.path.join(save_dir, f\"capture_{capture_count}.png\")\n",
    "        cv2.imwrite(img_name, frame)\n",
    "        print(f\"이미지 저장 완료: {img_name}\")\n",
    "\n",
    "# 자원 해제\n",
    "cap.release()\n",
    "cv2.destroyAllWindows()"
   ]
  },
  {
   "cell_type": "code",
   "execution_count": null,
   "metadata": {},
   "outputs": [],
   "source": []
  }
 ],
 "metadata": {
  "kernelspec": {
   "display_name": "Python 3.9.21 ('base')",
   "language": "python",
   "name": "python3"
  },
  "language_info": {
   "codemirror_mode": {
    "name": "ipython",
    "version": 3
   },
   "file_extension": ".py",
   "mimetype": "text/x-python",
   "name": "python",
   "nbconvert_exporter": "python",
   "pygments_lexer": "ipython3",
   "version": "3.9.21"
  },
  "orig_nbformat": 4,
  "vscode": {
   "interpreter": {
    "hash": "80f3ce62248fa450f65fa83724ba9cb1496b6411704937f1b6e1f2130379b287"
   }
  }
 },
 "nbformat": 4,
 "nbformat_minor": 2
}
