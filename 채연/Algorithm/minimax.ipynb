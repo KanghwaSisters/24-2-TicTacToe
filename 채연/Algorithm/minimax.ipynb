{
  "nbformat": 4,
  "nbformat_minor": 0,
  "metadata": {
    "colab": {
      "provenance": []
    },
    "kernelspec": {
      "name": "python3",
      "display_name": "Python 3"
    },
    "language_info": {
      "name": "python"
    }
  },
  "cells": [
    {
      "cell_type": "markdown",
      "source": [
        "# State class\n",
        "틱택토 상태를 나타낼 수 있는 class를 만들어 주세요.\n",
        "\n",
        "- 2명의 플레이어가 있고, 각 플레이어의 수가 뭔지 식별가능해야 합니다.  \n",
        "\n",
        "**꼭 구현해야할 매소드(주니어/시니어 공통)**\n",
        "- 둘 수 있는 위치가 어딘지 알려주는 함수\n",
        "- win / lose / draw를 식별해주는 함수\n",
        "- render 함수\n",
        "\n",
        "**min-max algorithm / alpha-beta algorithm 구현(시니어)**\n",
        "\n",
        "### 🚨 만약 감이 안 온다면 운영진에게 연락주시면 참고할 만한 레퍼런스를 보내드리겠습니다.\n",
        "https://github.com/Jpub/AlphaZero/blob/master/6_7_tictactoe/game.py\n",
        "### 🚨 참고한 레퍼런스가 있다면, 출처를 남겨주세요."
      ],
      "metadata": {
        "id": "aOdETJG1a4Ok"
      }
    },
    {
      "cell_type": "markdown",
      "source": [
        "https://symxsym.tistory.com/entry/pygame-%ED%8C%8C%EC%9D%B4%EC%8D%AC%EC%9C%BC%EB%A1%9C-%EA%B2%8C%EC%9E%84-%EB%A7%8C%EB%93%A4%EA%B8%B0-%ED%8B%B1%ED%83%9D%ED%86%A0\n",
        "\n",
        "https://github.com/kekmodel/gym-tictactoe-zero/blob/master/selfplay_gpu.py render있고 교재에서 나온 코드임\n",
        "\n",
        "https://medium.com/byte-sized-code/building-a-game-of-tic-tac-toe-in-python-72dd59c5f240\n",
        "pygame 안 쓰는거\n",
        "\n",
        "https://m.blog.naver.com/lsszz210/222238307295"
      ],
      "metadata": {
        "id": "-49mtiD5-xg8"
      }
    },
    {
      "cell_type": "code",
      "source": [
        "# 패키지 임포트\n",
        "import random\n",
        "import math\n",
        "\n",
        "class State:\n",
        "    # 초기화\n",
        "    def __init__(self, pieces=None, enemy_pieces=None):\n",
        "        # 돌의 배치\n",
        "        self.pieces = pieces if pieces != None else [0] * 9\n",
        "        self.enemy_pieces = enemy_pieces if enemy_pieces != None else [0] * 9\n",
        "\n",
        "    # 돌의 수 얻기\n",
        "    def piece_count(self, pieces):\n",
        "        count = 0\n",
        "        for i in pieces:\n",
        "            if i == 1:\n",
        "                count += 1\n",
        "        return count\n",
        "\n",
        "    # 승리 여부 판정\n",
        "    def is_win(self):\n",
        "        # 돌 3개 연결 여부 확인\n",
        "        def is_comp(x, y, dx, dy):\n",
        "            for k in range(3):\n",
        "                if y < 0 or 2 < y or x < 0 or 2 < x or \\\n",
        "                        self.pieces[x + y * 3] == 0:\n",
        "                    return False\n",
        "                x, y = x + dx, y + dy\n",
        "            return True\n",
        "\n",
        "        # 승리 여부 판정\n",
        "        if is_comp(0, 0, 1, 1) or is_comp(0, 2, 1, -1):\n",
        "            return True\n",
        "        for i in range(3):\n",
        "            if is_comp(0, i, 1, 0) or is_comp(i, 0, 0, 1):\n",
        "                return True\n",
        "        return False\n",
        "\n",
        "    # 패배 여부 판정\n",
        "    def is_lose(self):\n",
        "        # 돌 3개 연결 여부 확인\n",
        "        def is_comp(x, y, dx, dy):\n",
        "            for k in range(3):\n",
        "                if y < 0 or 2 < y or x < 0 or 2 < x or \\\n",
        "                        self.enemy_pieces[x + y * 3] == 0:\n",
        "                    return False\n",
        "                x, y = x + dx, y + dy\n",
        "            return True\n",
        "\n",
        "        # 패배 여부 판정\n",
        "        if is_comp(0, 0, 1, 1) or is_comp(0, 2, 1, -1):\n",
        "            return True\n",
        "        for i in range(3):\n",
        "            if is_comp(0, i, 1, 0) or is_comp(i, 0, 0, 1):\n",
        "                return True\n",
        "        return False\n",
        "\n",
        "    # 무승부 여부 확인\n",
        "    def is_draw(self):\n",
        "        return self.piece_count(self.pieces) + self.piece_count(self.enemy_pieces) == 9\n",
        "\n",
        "    # 게임 종료 여부 확인\n",
        "    def is_done(self):\n",
        "        return self.is_win() or self.is_lose() or self.is_draw()\n",
        "\n",
        "    # 다음 상태 얻기\n",
        "    def next(self, action):\n",
        "        pieces = self.pieces.copy()\n",
        "        pieces[action] = 1\n",
        "        return State(self.enemy_pieces, pieces)\n",
        "\n",
        "    # 합법적인 수의 리스트 얻기\n",
        "    def legal_actions(self):\n",
        "        actions = []\n",
        "        for i in range(9):\n",
        "            if self.pieces[i] == 0 and self.enemy_pieces[i] == 0:\n",
        "                actions.append(i)\n",
        "        return actions\n",
        "\n",
        "    # 선 수 여부 확인\n",
        "    def is_first_player(self):\n",
        "        return self.piece_count(self.pieces) == self.piece_count(self.enemy_pieces)\n",
        "\n",
        "    def render(self):\n",
        "        ox = ('o', 'x') if self.is_first_player() else ('x', 'o')\n",
        "        for i in range(9):\n",
        "            if self.pieces[i] == 1:\n",
        "                print(ox[0], end='')  # 자신의 돌 표시\n",
        "            elif self.enemy_pieces[i] == 1:\n",
        "                print(ox[1], end='')  # 상대의 돌 표시\n",
        "            else:\n",
        "                print('-', end='')  # 빈 칸 표시\n",
        "            if i % 3 == 2:  # 3번째 돌마다 줄바꿈\n",
        "                print()"
      ],
      "metadata": {
        "id": "CwrAjjfvAW9B"
      },
      "execution_count": null,
      "outputs": []
    },
    {
      "cell_type": "code",
      "source": [
        "pieces = [1, 0, 0,\n",
        "          0, 1, 0,\n",
        "          0, 0, 0]\n",
        "\n",
        "enemy_pieces = [0, 1, 0,\n",
        "                0, 0, 1,\n",
        "                0, 0, 0]\n",
        "st = State(pieces, enemy_pieces)\n",
        "st.render()"
      ],
      "metadata": {
        "colab": {
          "base_uri": "https://localhost:8080/"
        },
        "id": "UUhl2pUWMY3e",
        "outputId": "930ade72-a6d9-435a-cf8a-53f243ba04aa"
      },
      "execution_count": null,
      "outputs": [
        {
          "output_type": "stream",
          "name": "stdout",
          "text": [
            "ox-\n",
            "-ox\n",
            "---\n"
          ]
        }
      ]
    },
    {
      "cell_type": "code",
      "source": [
        "class Minimax:\n",
        "    def __init__(self, state):\n",
        "        self.state = state\n",
        "\n",
        "    def minimax(self, state, max_player):\n",
        "        if state.is_done():\n",
        "            if state.is_win():\n",
        "                return 1 if max_player else -1\n",
        "            elif state.is_lose():\n",
        "                return -1 if max_player else 1\n",
        "            else:\n",
        "                return 0\n",
        "\n",
        "        if max_player:\n",
        "            max_eval = -float('inf')\n",
        "            for action in state.legal_actions():\n",
        "                eval = self.minimax(state.next(action), False)\n",
        "                max_eval = max(max_eval, eval)\n",
        "            return max_eval\n",
        "        else:\n",
        "            min_eval = float('inf')\n",
        "            for action in state.legal_actions():\n",
        "                eval = self.minimax(state.next(action), True)\n",
        "                min_eval = min(min_eval, eval)\n",
        "            return min_eval\n",
        "\n",
        "    def best_action(self):\n",
        "        best_score = -float('inf')\n",
        "        best_move = -1\n",
        "        for action in self.state.legal_actions():\n",
        "            score = self.minimax(self.state.next(action), False)\n",
        "            if score > best_score:\n",
        "                best_score = score\n",
        "                best_move = action\n",
        "        return best_move"
      ],
      "metadata": {
        "id": "bUb7CmS7y5Bp"
      },
      "execution_count": null,
      "outputs": []
    },
    {
      "cell_type": "code",
      "source": [
        "import time\n",
        "def play_game():\n",
        "    state = State()  # 게임 초기 상태\n",
        "    while not state.is_done():\n",
        "        state.render()\n",
        "        if state.is_first_player():\n",
        "            # 사용자의 차례\n",
        "            print(\"Your turn! Choose a position (0-8): \")\n",
        "            action = int(input())\n",
        "            if action not in state.legal_actions():\n",
        "                print(\"잘못된 입력입니다. 다시 선택해주세요\")\n",
        "                continue\n",
        "        else:\n",
        "            # 컴퓨터의 차례\n",
        "            print(\"Computer's turn...\")\n",
        "            ai = Minimax(state)\n",
        "            start_time = time.time()\n",
        "            action = ai.best_action()\n",
        "            end_time = time.time()\n",
        "            print(f\"Computer took {end_time - start_time:.2f} seconds to decide.\")\n",
        "\n",
        "        # 상태 업데이트\n",
        "        state = state.next(action)\n",
        "\n",
        "    # 결과 출력\n",
        "    state.render()\n",
        "    if state.is_win():\n",
        "        print(\"You win!\" if state.is_first_player() else \"Computer wins!\")\n",
        "    elif state.is_lose():\n",
        "        print(\"Computer wins!\" if state.is_first_player() else \"You win!\")\n",
        "    else:\n",
        "        print(\"It's a draw!\")"
      ],
      "metadata": {
        "id": "3YR9ypUV4Gh4"
      },
      "execution_count": null,
      "outputs": []
    },
    {
      "cell_type": "code",
      "source": [
        "play_game()"
      ],
      "metadata": {
        "colab": {
          "base_uri": "https://localhost:8080/"
        },
        "id": "M30Zek944gu5",
        "outputId": "3dadd84e-1b70-4153-c882-0dce59b86093"
      },
      "execution_count": null,
      "outputs": [
        {
          "output_type": "stream",
          "name": "stdout",
          "text": [
            "---\n",
            "---\n",
            "---\n",
            "Your turn! Choose a position (0-8): \n",
            "3\n",
            "---\n",
            "o--\n",
            "---\n",
            "Computer's turn...\n",
            "Computer took 1.07 seconds to decide.\n",
            "x--\n",
            "o--\n",
            "---\n",
            "Your turn! Choose a position (0-8): \n",
            "4\n",
            "x--\n",
            "oo-\n",
            "---\n",
            "Computer's turn...\n",
            "Computer took 0.02 seconds to decide.\n",
            "x--\n",
            "oox\n",
            "---\n",
            "Your turn! Choose a position (0-8): \n",
            "1\n",
            "xo-\n",
            "oox\n",
            "---\n",
            "Computer's turn...\n",
            "Computer took 0.00 seconds to decide.\n",
            "xo-\n",
            "oox\n",
            "-x-\n",
            "Your turn! Choose a position (0-8): \n",
            "2\n",
            "xoo\n",
            "oox\n",
            "-x-\n",
            "Computer's turn...\n",
            "Computer took 0.00 seconds to decide.\n",
            "xoo\n",
            "oox\n",
            "xx-\n",
            "Your turn! Choose a position (0-8): \n",
            "8\n",
            "xoo\n",
            "oox\n",
            "xxo\n",
            "It's a draw!\n"
          ]
        }
      ]
    },
    {
      "cell_type": "code",
      "source": [],
      "metadata": {
        "id": "3wv4QTEG4vw-"
      },
      "execution_count": null,
      "outputs": []
    }
  ]
}