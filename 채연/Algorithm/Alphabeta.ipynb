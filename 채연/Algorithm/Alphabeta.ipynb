{
  "nbformat": 4,
  "nbformat_minor": 0,
  "metadata": {
    "colab": {
      "provenance": []
    },
    "kernelspec": {
      "name": "python3",
      "display_name": "Python 3"
    },
    "language_info": {
      "name": "python"
    }
  },
  "cells": [
    {
      "cell_type": "code",
      "source": [
        "import time\n",
        "\n",
        "class State:\n",
        "    def __init__(self, board=None, turn=1):\n",
        "        # 돌의 배치\n",
        "        self.board = board if board is not None else [0]*9\n",
        "        self.turn = turn  # -1이면 컴퓨터가 먼저, 1이면 사용자가 먼저\n",
        "\n",
        "    def piece_count(self, pieces):\n",
        "        count = 0\n",
        "        for i in pieces:\n",
        "            if i == 1:\n",
        "                count += 1\n",
        "        return count\n",
        "\n",
        "    def is_win(self):\n",
        "        for line in [(0, 1, 2), (3, 4, 5), (6, 7, 8),  # Rows\n",
        "                     (0, 3, 6), (1, 4, 7), (2, 5, 8),  # Columns\n",
        "                     (0, 4, 8), (2, 4, 6)]:            # Diagonals\n",
        "            if all(self.board[i] == 1 for i in line):\n",
        "                return True\n",
        "        return False\n",
        "\n",
        "    def is_lose(self):\n",
        "        for line in [(0, 1, 2), (3, 4, 5), (6, 7, 8),  # Rows\n",
        "                     (0, 3, 6), (1, 4, 7), (2, 5, 8),  # Columns\n",
        "                     (0, 4, 8), (2, 4, 6)]:            # Diagonals\n",
        "            if all(self.board[i] == -1 for i in line):\n",
        "                return True\n",
        "        return False\n",
        "\n",
        "    def is_draw(self):\n",
        "        return all(cell != 0 for cell in self.board) and not self.is_win() and not self.is_lose()\n",
        "\n",
        "    def is_done(self):\n",
        "        return self.is_win() or self.is_lose() or self.is_draw()\n",
        "\n",
        "    def next(self, action):\n",
        "        new_board = self.board[:]\n",
        "        new_board[action] = 1 if self.turn == 1 else -1\n",
        "        # 턴을 변경하여 새 상태 반환\n",
        "        return State(new_board, -self.turn)\n",
        "\n",
        "    def legal_actions(self):\n",
        "        return [i for i in range(9) if self.board[i] == 0]\n",
        "\n",
        "    def is_first_player(self):\n",
        "        return self.turn == 1  # 사용자가 먼저인 경우\n",
        "\n",
        "    def render(self):\n",
        "        symbols = {1: 'o', -1: 'x', 0: '-'}\n",
        "        for i in range(9):\n",
        "            print(symbols[self.board[i]], end='')\n",
        "            if i % 3 == 2:\n",
        "                print()"
      ],
      "metadata": {
        "id": "HbF2GV6lX6a0"
      },
      "execution_count": null,
      "outputs": []
    },
    {
      "cell_type": "code",
      "source": [
        "board = [0,1,1,\n",
        "         0,1,-1,\n",
        "         1,1,1]\n",
        "st = State(board)\n",
        "st.render()"
      ],
      "metadata": {
        "colab": {
          "base_uri": "https://localhost:8080/"
        },
        "id": "UUhl2pUWMY3e",
        "outputId": "0f3982d1-de7d-4bd0-b8ba-67c6141827a3"
      },
      "execution_count": null,
      "outputs": [
        {
          "output_type": "stream",
          "name": "stdout",
          "text": [
            "-oo\n",
            "-ox\n",
            "ooo\n"
          ]
        }
      ]
    },
    {
      "cell_type": "code",
      "source": [
        "class Alphabeta:\n",
        "    def __init__(self, state, depth_limit=3):\n",
        "        self.state = state\n",
        "        self.depth_limit = depth_limit # 최대 탐색 깊이 설정\n",
        "\n",
        "    def evaluate_state(self, state):\n",
        "        score = 0\n",
        "\n",
        "        # 각 라인별로 AI와 상대의 돌을 셈\n",
        "        for line in [(0, 1, 2), (3, 4, 5), (6, 7, 8),  # 행\n",
        "                     (0, 3, 6), (1, 4, 7), (2, 5, 8),  # 열\n",
        "                     (0, 4, 8), (2, 4, 6)]:            # 대각\n",
        "            player_count = sum(1 for i in line if state.board[i] == 1)\n",
        "            opponent_count = sum(1 for i in line if state.board[i] == -1)\n",
        "\n",
        "            # AI가 승리할 수 있는 라인\n",
        "            if player_count == 2 and opponent_count == 0:\n",
        "                score += 1\n",
        "            # 상대가 승리할 수 있는 라인\n",
        "            elif opponent_count == 2 and player_count == 0:\n",
        "                score -= 1\n",
        "\n",
        "        return score\n",
        "\n",
        "    def sorted_legal_actions(self, state, max_player): # 합법적인 행동 평가\n",
        "        actions = state.legal_actions() # 가능한 모든 합법적인 행동 가져옴\n",
        "        return sorted(\n",
        "            actions, # 행동 정렬\n",
        "            key=lambda action: self.evaluate_state(state.next(action)), # 각 행동에 대한 평가값\n",
        "            reverse=max_player # max_player가 True면 내림차순(최대화), False면 오름차순(최소화)\n",
        "        )\n",
        "\n",
        "    def alpha_beta(self, state, depth, alpha, beta, max_player):\n",
        "        if depth >= self.depth_limit or state.is_done():\n",
        "            if state.is_done():\n",
        "                return 1 # 승리\n",
        "            if state.is_lose():\n",
        "                return -1 # 패배\n",
        "            return 0 # 무승부\n",
        "\n",
        "        if max_player:\n",
        "            max_eval = -float('inf')\n",
        "            for action in self.sorted_legal_actions(state, True):\n",
        "                next_state = state.next(action)\n",
        "                eval = self.alpha_beta(next_state, depth + 1, alpha, beta, False)\n",
        "                max_eval = max(max_eval, eval)\n",
        "                alpha = max(alpha, eval)\n",
        "                if beta <= alpha:\n",
        "                    break  # Beta pruning\n",
        "            return max_eval\n",
        "        else:\n",
        "            min_eval = float('inf')\n",
        "            for action in self.sorted_legal_actions(state, False):\n",
        "                next_state = state.next(action)\n",
        "                eval = self.alpha_beta(next_state, depth + 1, alpha, beta, True)\n",
        "                min_eval = min(min_eval, eval)\n",
        "                beta = min(beta, eval)\n",
        "                if beta <= alpha:\n",
        "                    break  # Alpha pruning\n",
        "            return min_eval\n",
        "\n",
        "    def best_action(self): # 최적의 선택\n",
        "        best_action = None\n",
        "        if self.state.is_first_player(): # AI가 먼저면 최대화(승리)를 목표\n",
        "            max_eval = -float('inf')\n",
        "            for action in self.sorted_legal_actions(self.state, True):\n",
        "                next_state = self.state.next(action)\n",
        "                eval = self.alpha_beta(next_state, 0, -float('inf'), float('inf'), False)\n",
        "                if eval > max_eval:\n",
        "                    max_eval = eval\n",
        "                    best_action = action\n",
        "        else:\n",
        "            min_eval = float('inf') # 상대가 먼저면 최소화(방어)를 목표\n",
        "            for action in self.sorted_legal_actions(self.state, False):\n",
        "                next_state = self.state.next(action)\n",
        "                eval = self.alpha_beta(next_state, 0, -float('inf'), float('inf'), True)\n",
        "                if eval < min_eval:\n",
        "                    min_eval = eval\n",
        "                    best_action = action\n",
        "\n",
        "        return best_action"
      ],
      "metadata": {
        "id": "v3niLR2Y1YpM"
      },
      "execution_count": null,
      "outputs": []
    },
    {
      "cell_type": "code",
      "source": [
        "import time\n",
        "def play_game():\n",
        "    # 게임 시작 시 사용자에게 차례 선택\n",
        "    print(\"Do you want to go first or let the computer go first?\")\n",
        "    choice = input(\"Type '1' for you first or '-1' for computer first: \").strip()\n",
        "\n",
        "    if choice == '1':\n",
        "        state = State(turn=1)  # 사용자가 먼저\n",
        "    elif choice == '-1':\n",
        "        state = State(turn=-1)  # 컴퓨터가 먼저\n",
        "    else:\n",
        "        print(\"Invalid choice, defaulting to you first.\")\n",
        "        state = State(turn=1)\n",
        "    while not state.is_done():\n",
        "        state.render()\n",
        "        if state.is_first_player():\n",
        "            # 사용자의 차례\n",
        "            print(\"Your turn! Choose a position (0-8): \")\n",
        "            action = int(input())\n",
        "            if action not in state.legal_actions():\n",
        "                print(\"잘못된 입력입니다. 다시 선택해주세요\")\n",
        "                continue\n",
        "        else:\n",
        "            # 컴퓨터의 차례\n",
        "            print(\"Computer's turn...\")\n",
        "            ai = Alphabeta(state)\n",
        "            start_time = time.time()\n",
        "            action = ai.best_action()\n",
        "            end_time = time.time()\n",
        "            print(f\"Computer took {end_time - start_time:.2f} seconds to decide.\")\n",
        "\n",
        "        # 상태 업데이트\n",
        "        state = state.next(action)\n",
        "\n",
        "    # 결과 출력\n",
        "    state.render()\n",
        "    if state.is_win():\n",
        "        print(\"You win!\" if state.is_first_player() else \"Computer wins!\")\n",
        "    elif state.is_lose():\n",
        "        print(\"Computer wins!\" if state.is_first_player() else \"You win!\")\n",
        "    else:\n",
        "        print(\"It's a draw!\")"
      ],
      "metadata": {
        "id": "3YR9ypUV4Gh4"
      },
      "execution_count": null,
      "outputs": []
    },
    {
      "cell_type": "code",
      "source": [
        "play_game()"
      ],
      "metadata": {
        "colab": {
          "base_uri": "https://localhost:8080/"
        },
        "id": "eiIOwLjqzoUW",
        "outputId": "892eb3a1-393b-42e3-fe61-3a53351c775e"
      },
      "execution_count": null,
      "outputs": [
        {
          "output_type": "stream",
          "name": "stdout",
          "text": [
            "Do you want to go first or let the computer go first?\n",
            "Type '1' for you first or '-1' for computer first: -1\n",
            "---\n",
            "---\n",
            "---\n",
            "Computer's turn...\n",
            "Computer took 0.03 seconds to decide.\n",
            "x--\n",
            "---\n",
            "---\n",
            "Your turn! Choose a position (0-8): \n",
            "2\n",
            "x-o\n",
            "---\n",
            "---\n",
            "Computer's turn...\n",
            "Computer took 0.02 seconds to decide.\n",
            "x-o\n",
            "---\n",
            "x--\n",
            "Your turn! Choose a position (0-8): \n",
            "3\n",
            "x-o\n",
            "o--\n",
            "x--\n",
            "Computer's turn...\n",
            "Computer took 0.00 seconds to decide.\n",
            "x-o\n",
            "o-x\n",
            "x--\n",
            "Your turn! Choose a position (0-8): \n",
            "1\n",
            "xoo\n",
            "o-x\n",
            "x--\n",
            "Computer's turn...\n",
            "Computer took 0.00 seconds to decide.\n",
            "xoo\n",
            "o-x\n",
            "x-x\n",
            "Your turn! Choose a position (0-8): \n",
            "7\n",
            "xoo\n",
            "o-x\n",
            "xox\n",
            "Computer's turn...\n",
            "Computer took 0.00 seconds to decide.\n",
            "xoo\n",
            "oxx\n",
            "xox\n",
            "Computer wins!\n"
          ]
        }
      ]
    },
    {
      "cell_type": "markdown",
      "source": [
        "- 1로 설정해서 내가 먼저 시작할 경우 AI는 방어적인 형태를 취하여 이길 수 있는 상황임에도 내 것을 막는 데에 집중함\n",
        "- -1로 설정하여 AI가 먼저 시작할 경우 확실히 공격적인 느낌"
      ],
      "metadata": {
        "id": "_K3gWRn9YdzL"
      }
    },
    {
      "cell_type": "code",
      "source": [],
      "metadata": {
        "id": "6K-o20iDYlt-"
      },
      "execution_count": null,
      "outputs": []
    }
  ]
}